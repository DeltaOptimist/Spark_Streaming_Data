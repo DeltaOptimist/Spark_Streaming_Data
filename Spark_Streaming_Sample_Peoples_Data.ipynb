{
  "nbformat": 4,
  "nbformat_minor": 0,
  "metadata": {
    "colab": {
      "provenance": [],
      "collapsed_sections": []
    },
    "kernelspec": {
      "name": "python3",
      "display_name": "Python 3"
    },
    "language_info": {
      "name": "python"
    }
  },
  "cells": [
    {
      "cell_type": "code",
      "execution_count": 1,
      "metadata": {
        "colab": {
          "base_uri": "https://localhost:8080/"
        },
        "id": "oqm-bLmX6bD8",
        "outputId": "221276c3-00a1-4aae-e367-708465f487a2"
      },
      "outputs": [
        {
          "output_type": "stream",
          "name": "stdout",
          "text": [
            "Looking in indexes: https://pypi.org/simple, https://us-python.pkg.dev/colab-wheels/public/simple/\n",
            "Collecting pyspark\n",
            "  Downloading pyspark-3.3.0.tar.gz (281.3 MB)\n",
            "\u001b[K     |████████████████████████████████| 281.3 MB 47 kB/s \n",
            "\u001b[?25hCollecting py4j==0.10.9.5\n",
            "  Downloading py4j-0.10.9.5-py2.py3-none-any.whl (199 kB)\n",
            "\u001b[K     |████████████████████████████████| 199 kB 54.7 MB/s \n",
            "\u001b[?25hBuilding wheels for collected packages: pyspark\n",
            "  Building wheel for pyspark (setup.py) ... \u001b[?25l\u001b[?25hdone\n",
            "  Created wheel for pyspark: filename=pyspark-3.3.0-py2.py3-none-any.whl size=281764026 sha256=088b399f153ff373fa5ad5e106fcb5c8af4b37dace655f09d13b192a8ecf0bbf\n",
            "  Stored in directory: /root/.cache/pip/wheels/7a/8e/1b/f73a52650d2e5f337708d9f6a1750d451a7349a867f928b885\n",
            "Successfully built pyspark\n",
            "Installing collected packages: py4j, pyspark\n",
            "Successfully installed py4j-0.10.9.5 pyspark-3.3.0\n"
          ]
        }
      ],
      "source": [
        "!pip install pyspark"
      ]
    },
    {
      "cell_type": "code",
      "source": [
        "from pyspark.sql import SparkSession\n",
        "spark = SparkSession.builder.master(\"local\").appName(\"Streaming\").config('spark.ui.port', '4050').getOrCreate()"
      ],
      "metadata": {
        "id": "y5mpajI86jHb"
      },
      "execution_count": 2,
      "outputs": []
    },
    {
      "cell_type": "code",
      "source": [
        "from pyspark.sql.types import *\n",
        "schema = StructType([\n",
        "StructField(\"person_ID\",IntegerType(),True), StructField(\"name\",StringType(),True), StructField(\"first\",StringType(),True),\n",
        "StructField(\"last\", StringType(), True),\n",
        "StructField(\"middle\", StringType(), True),\n",
        "StructField(\"email\", StringType(), True),\n",
        "StructField(\"phone\", StringType(), True),\n",
        "StructField(\"fax\", StringType(), True),\n",
        "StructField(\"title\", StringType(), True)])"
      ],
      "metadata": {
        "id": "QArVcsd56vyy"
      },
      "execution_count": 3,
      "outputs": []
    },
    {
      "cell_type": "code",
      "source": [
        "schema"
      ],
      "metadata": {
        "colab": {
          "base_uri": "https://localhost:8080/"
        },
        "id": "H0VommAy7ja6",
        "outputId": "e1ae2063-0eac-444b-cab1-b2e93b49eeeb"
      },
      "execution_count": 4,
      "outputs": [
        {
          "output_type": "execute_result",
          "data": {
            "text/plain": [
              "StructType([StructField('person_ID', IntegerType(), True), StructField('name', StringType(), True), StructField('first', StringType(), True), StructField('last', StringType(), True), StructField('middle', StringType(), True), StructField('email', StringType(), True), StructField('phone', StringType(), True), StructField('fax', StringType(), True), StructField('title', StringType(), True)])"
            ]
          },
          "metadata": {},
          "execution_count": 4
        }
      ]
    },
    {
      "cell_type": "code",
      "source": [
        "people_df = spark.readStream.format(\"csv\").schema(schema).option(\"header\", True).load(\"streaming\")"
      ],
      "metadata": {
        "id": "AV-IvS7P7mCT"
      },
      "execution_count": 5,
      "outputs": []
    },
    {
      "cell_type": "code",
      "source": [
        "print(people_df.isStreaming)"
      ],
      "metadata": {
        "colab": {
          "base_uri": "https://localhost:8080/"
        },
        "id": "x04F8ZdI8tMT",
        "outputId": "4cdd9c46-88dd-4f8c-ec53-231d3fe81a36"
      },
      "execution_count": 6,
      "outputs": [
        {
          "output_type": "stream",
          "name": "stdout",
          "text": [
            "True\n"
          ]
        }
      ]
    },
    {
      "cell_type": "code",
      "source": [
        "# this wont work\n",
        "#people_df.show()"
      ],
      "metadata": {
        "id": "KTCMK48E81Uu"
      },
      "execution_count": 7,
      "outputs": []
    },
    {
      "cell_type": "code",
      "source": [
        "results_df = people_df.select(\"*\")\n",
        "query = (results_df.writeStream\n",
        ".format(\"json\")\n",
        ".outputMode(\"append\")\n",
        ".queryName(\"selectTable\")\n",
        ".option(\"checkpointLocation\", \"/content/checkpoint\")\n",
        ".option(\"path\", \"/content/results\")\n",
        ".start()\n",
        ".awaitTermination() \n",
        ")"
      ],
      "metadata": {
        "id": "wj3cM4hF86jV"
      },
      "execution_count": null,
      "outputs": []
    },
    {
      "cell_type": "code",
      "source": [],
      "metadata": {
        "id": "-jV4SB1S9ZKB"
      },
      "execution_count": null,
      "outputs": []
    }
  ]
}